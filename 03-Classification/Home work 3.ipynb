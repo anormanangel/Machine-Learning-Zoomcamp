{
 "cells": [
  {
   "cell_type": "markdown",
   "id": "72c578ad",
   "metadata": {},
   "source": [
    "## Home Work Three - 2025 ML Zoomcamp \n",
    "\n",
    "## By: Norman Angel\n",
    "\n",
    "## Date: Oct 13, 2025"
   ]
  },
  {
   "cell_type": "markdown",
   "id": "0ff6acc7",
   "metadata": {},
   "source": [
    "## Task\n",
    "\n",
    "- In this homework, we will use the lead scoring dataset Bank Marketing dataset\n",
    "\n",
    "- In this dataset our desired target for classification task will be converted variable - has the client signed up to the platform or not."
   ]
  },
  {
   "cell_type": "code",
   "execution_count": 1,
   "id": "b194f56e",
   "metadata": {},
   "outputs": [],
   "source": [
    "# Importing Libraries\n",
    "\n",
    "import pandas as pd\n",
    "import numpy as np\n",
    "import matplotlib.pyplot as plt\n",
    "import seaborn as sns\n",
    "%matplotlib inline"
   ]
  },
  {
   "cell_type": "code",
   "execution_count": 2,
   "id": "5885a320",
   "metadata": {},
   "outputs": [
    {
     "data": {
      "text/html": [
       "<div>\n",
       "<style scoped>\n",
       "    .dataframe tbody tr th:only-of-type {\n",
       "        vertical-align: middle;\n",
       "    }\n",
       "\n",
       "    .dataframe tbody tr th {\n",
       "        vertical-align: top;\n",
       "    }\n",
       "\n",
       "    .dataframe thead th {\n",
       "        text-align: right;\n",
       "    }\n",
       "</style>\n",
       "<table border=\"1\" class=\"dataframe\">\n",
       "  <thead>\n",
       "    <tr style=\"text-align: right;\">\n",
       "      <th></th>\n",
       "      <th>lead_source</th>\n",
       "      <th>industry</th>\n",
       "      <th>number_of_courses_viewed</th>\n",
       "      <th>annual_income</th>\n",
       "      <th>employment_status</th>\n",
       "      <th>location</th>\n",
       "      <th>interaction_count</th>\n",
       "      <th>lead_score</th>\n",
       "      <th>converted</th>\n",
       "    </tr>\n",
       "  </thead>\n",
       "  <tbody>\n",
       "    <tr>\n",
       "      <th>0</th>\n",
       "      <td>paid_ads</td>\n",
       "      <td>NaN</td>\n",
       "      <td>1</td>\n",
       "      <td>79450.0</td>\n",
       "      <td>unemployed</td>\n",
       "      <td>south_america</td>\n",
       "      <td>4</td>\n",
       "      <td>0.94</td>\n",
       "      <td>1</td>\n",
       "    </tr>\n",
       "    <tr>\n",
       "      <th>1</th>\n",
       "      <td>social_media</td>\n",
       "      <td>retail</td>\n",
       "      <td>1</td>\n",
       "      <td>46992.0</td>\n",
       "      <td>employed</td>\n",
       "      <td>south_america</td>\n",
       "      <td>1</td>\n",
       "      <td>0.80</td>\n",
       "      <td>0</td>\n",
       "    </tr>\n",
       "    <tr>\n",
       "      <th>2</th>\n",
       "      <td>events</td>\n",
       "      <td>healthcare</td>\n",
       "      <td>5</td>\n",
       "      <td>78796.0</td>\n",
       "      <td>unemployed</td>\n",
       "      <td>australia</td>\n",
       "      <td>3</td>\n",
       "      <td>0.69</td>\n",
       "      <td>1</td>\n",
       "    </tr>\n",
       "    <tr>\n",
       "      <th>3</th>\n",
       "      <td>paid_ads</td>\n",
       "      <td>retail</td>\n",
       "      <td>2</td>\n",
       "      <td>83843.0</td>\n",
       "      <td>NaN</td>\n",
       "      <td>australia</td>\n",
       "      <td>1</td>\n",
       "      <td>0.87</td>\n",
       "      <td>0</td>\n",
       "    </tr>\n",
       "    <tr>\n",
       "      <th>4</th>\n",
       "      <td>referral</td>\n",
       "      <td>education</td>\n",
       "      <td>3</td>\n",
       "      <td>85012.0</td>\n",
       "      <td>self_employed</td>\n",
       "      <td>europe</td>\n",
       "      <td>3</td>\n",
       "      <td>0.62</td>\n",
       "      <td>1</td>\n",
       "    </tr>\n",
       "  </tbody>\n",
       "</table>\n",
       "</div>"
      ],
      "text/plain": [
       "    lead_source    industry  number_of_courses_viewed  annual_income  \\\n",
       "0      paid_ads         NaN                         1        79450.0   \n",
       "1  social_media      retail                         1        46992.0   \n",
       "2        events  healthcare                         5        78796.0   \n",
       "3      paid_ads      retail                         2        83843.0   \n",
       "4      referral   education                         3        85012.0   \n",
       "\n",
       "  employment_status       location  interaction_count  lead_score  converted  \n",
       "0        unemployed  south_america                  4        0.94          1  \n",
       "1          employed  south_america                  1        0.80          0  \n",
       "2        unemployed      australia                  3        0.69          1  \n",
       "3               NaN      australia                  1        0.87          0  \n",
       "4     self_employed         europe                  3        0.62          1  "
      ]
     },
     "execution_count": 2,
     "metadata": {},
     "output_type": "execute_result"
    }
   ],
   "source": [
    "# Load the dataset \n",
    "\n",
    "df = pd.read_csv('https://raw.githubusercontent.com/alexeygrigorev/datasets/master/course_lead_scoring.csv')\n",
    "df.head()"
   ]
  },
  {
   "cell_type": "markdown",
   "id": "00d2d0d1",
   "metadata": {},
   "source": [
    "## Data preparation\n",
    "\n",
    "- Check if the missing values are presented in the features.\n",
    "- If there are missing values:\n",
    "- For caterogiral features, replace them with 'NA'\n",
    "- For numerical features, replace with with 0.0\n"
   ]
  },
  {
   "cell_type": "code",
   "execution_count": 3,
   "id": "9b7e2746",
   "metadata": {},
   "outputs": [
    {
     "data": {
      "text/plain": [
       "lead_source                  object\n",
       "industry                     object\n",
       "number_of_courses_viewed      int64\n",
       "annual_income               float64\n",
       "employment_status            object\n",
       "location                     object\n",
       "interaction_count             int64\n",
       "lead_score                  float64\n",
       "converted                     int64\n",
       "dtype: object"
      ]
     },
     "execution_count": 3,
     "metadata": {},
     "output_type": "execute_result"
    }
   ],
   "source": [
    "# Check datatypes\n",
    "\n",
    "df.dtypes"
   ]
  },
  {
   "cell_type": "code",
   "execution_count": 5,
   "id": "fb7801e6",
   "metadata": {},
   "outputs": [
    {
     "data": {
      "text/plain": [
       "lead_source                 128\n",
       "industry                    134\n",
       "number_of_courses_viewed      0\n",
       "annual_income               181\n",
       "employment_status           100\n",
       "location                     63\n",
       "interaction_count             0\n",
       "lead_score                    0\n",
       "converted                     0\n",
       "dtype: int64"
      ]
     },
     "execution_count": 5,
     "metadata": {},
     "output_type": "execute_result"
    }
   ],
   "source": [
    "# Check Missing values\n",
    "\n",
    "df.isnull().sum()"
   ]
  },
  {
   "cell_type": "code",
   "execution_count": 7,
   "id": "666b0b98",
   "metadata": {},
   "outputs": [],
   "source": [
    "# Fill categorical missing values  in df with 'NA'\n",
    "\n",
    "categorical = df.select_dtypes(include=['object', 'category']).columns\n",
    "df[categorical] = df[categorical].fillna('NA')"
   ]
  },
  {
   "cell_type": "code",
   "execution_count": 8,
   "id": "db86637e",
   "metadata": {},
   "outputs": [],
   "source": [
    "# and numerical missing values with 0.0\n",
    "\n",
    "numerical = df.select_dtypes(include=['int64', 'float64']).columns\n",
    "df[numerical] = df[numerical].fillna(0.0)"
   ]
  },
  {
   "cell_type": "code",
   "execution_count": 9,
   "id": "6d4929f0",
   "metadata": {},
   "outputs": [
    {
     "data": {
      "text/plain": [
       "lead_source                 0\n",
       "industry                    0\n",
       "number_of_courses_viewed    0\n",
       "annual_income               0\n",
       "employment_status           0\n",
       "location                    0\n",
       "interaction_count           0\n",
       "lead_score                  0\n",
       "converted                   0\n",
       "dtype: int64"
      ]
     },
     "execution_count": 9,
     "metadata": {},
     "output_type": "execute_result"
    }
   ],
   "source": [
    "df.isnull().sum()"
   ]
  },
  {
   "cell_type": "markdown",
   "id": "1d455eb2",
   "metadata": {},
   "source": [
    "## Question 1\n",
    "\n",
    "- What is the most frequent observation (mode) for the column industry?\n"
   ]
  },
  {
   "cell_type": "code",
   "execution_count": 10,
   "id": "f7f544fe",
   "metadata": {},
   "outputs": [
    {
     "data": {
      "text/plain": [
       "'retail'"
      ]
     },
     "execution_count": 10,
     "metadata": {},
     "output_type": "execute_result"
    }
   ],
   "source": [
    "df['industry'].mode()[0]"
   ]
  },
  {
   "cell_type": "markdown",
   "id": "c9709178",
   "metadata": {},
   "source": [
    "## Question 2\n",
    "\n",
    "Create the correlation matrix for the numerical features of your dataset. In a correlation matrix, you compute the correlation coefficient between every pair of features.\n",
    "\n",
    "- What are the two features that have the biggest correlation?\n"
   ]
  },
  {
   "cell_type": "code",
   "execution_count": 11,
   "id": "26167503",
   "metadata": {},
   "outputs": [
    {
     "name": "stdout",
     "output_type": "stream",
     "text": [
      "                          number_of_courses_viewed  annual_income  \\\n",
      "number_of_courses_viewed                  1.000000       0.009770   \n",
      "annual_income                             0.009770       1.000000   \n",
      "interaction_count                        -0.023565       0.027036   \n",
      "lead_score                               -0.004879       0.015610   \n",
      "converted                                 0.435914       0.053131   \n",
      "\n",
      "                          interaction_count  lead_score  converted  \n",
      "number_of_courses_viewed          -0.023565   -0.004879   0.435914  \n",
      "annual_income                      0.027036    0.015610   0.053131  \n",
      "interaction_count                  1.000000    0.009888   0.374573  \n",
      "lead_score                         0.009888    1.000000   0.193673  \n",
      "converted                          0.374573    0.193673   1.000000  \n"
     ]
    }
   ],
   "source": [
    "# Compute correlation matrix\n",
    "corr_matrix = df[numerical].corr()\n",
    "\n",
    "# Display the matrix\n",
    "print(corr_matrix)"
   ]
  },
  {
   "cell_type": "code",
   "execution_count": 15,
   "id": "39d0ca1d",
   "metadata": {},
   "outputs": [
    {
     "name": "stdout",
     "output_type": "stream",
     "text": [
      "The two features with the strongest correlation are:\n",
      "number_of_courses_viewed  converted    0.435914\n",
      "dtype: float64\n"
     ]
    }
   ],
   "source": [
    "# Unstack the matrix to get pairwise correlations\n",
    "corr_pairs = corr_matrix.unstack()\n",
    "\n",
    "# Remove self-correlations (correlation of a variable with itself)\n",
    "corr_pairs = corr_pairs[corr_pairs < 1]\n",
    "\n",
    "# Get the pair with the highest absolute correlation\n",
    "strongest_pair = corr_pairs.abs().sort_values(ascending=False).head(1)\n",
    "\n",
    "print(\"The two features with the strongest correlation are:\")\n",
    "print(strongest_pair)\n"
   ]
  },
  {
   "cell_type": "code",
   "execution_count": 16,
   "id": "dab8767f",
   "metadata": {},
   "outputs": [
    {
     "data": {
      "image/png": "[encoded data removed]",
      "text/plain": [
       "<Figure size 1000x800 with 2 Axes>"
      ]
     },
     "metadata": {},
     "output_type": "display_data"
    }
   ],
   "source": [
    "# Vizualize the correlation matrix\n",
    "\n",
    "plt.figure(figsize=(10, 8))\n",
    "sns.heatmap(corr_matrix, annot=True, fmt=\".2f\", cmap=\"coolwarm\")\n",
    "plt.title(\"Correlation Matrix for Numerical Features\")\n",
    "plt.show()\n"
   ]
  },
  {
   "cell_type": "code",
   "execution_count": 18,
   "id": "e5a6b47c",
   "metadata": {},
   "outputs": [
    {
     "name": "stdout",
     "output_type": "stream",
     "text": [
      "Highest correlation: 0.436\n",
      "Between features: 'number_of_courses_viewed' and 'converted'\n",
      "\n",
      "Top 5 correlated pairs:\n",
      "1. number_of_courses_viewed <-> converted: 0.436\n",
      "2. interaction_count <-> converted: 0.375\n",
      "3. lead_score <-> converted: 0.194\n",
      "4. annual_income <-> converted: 0.053\n",
      "5. annual_income <-> interaction_count: 0.027\n"
     ]
    }
   ],
   "source": [
    "\n",
    "# Calculate correlation matrix for numerical columns only\n",
    "correlation_matrix = df[numerical].corr()\n",
    "\n",
    "# Get upper triangle of correlation matrix (to avoid duplicates and diagonal)\n",
    "upper_triangle = np.triu(np.ones(correlation_matrix.shape), k=1).astype(bool)\n",
    "upper_corr = correlation_matrix.where(upper_triangle)\n",
    "\n",
    "# Find the maximum correlation\n",
    "max_corr = upper_corr.max().max()\n",
    "\n",
    "# Find which pair has the maximum correlation\n",
    "max_pair = upper_corr.stack().idxmax()\n",
    "\n",
    "print(f\"Highest correlation: {max_corr:.3f}\")\n",
    "print(f\"Between features: '{max_pair[0]}' and '{max_pair[1]}'\")\n",
    "\n",
    "# Optional: Show top 5 correlated pairs\n",
    "print(\"\\nTop 5 correlated pairs:\")\n",
    "corr_pairs = upper_corr.stack().sort_values(ascending=False)\n",
    "for i, (pair, corr) in enumerate(corr_pairs.head(5).items(), 1):\n",
    "    print(f\"{i}. {pair[0]} <-> {pair[1]}: {corr:.3f}\")"
   ]
  },
  {
   "cell_type": "code",
   "execution_count": 19,
   "id": "436d4dc1",
   "metadata": {},
   "outputs": [
    {
     "name": "stdout",
     "output_type": "stream",
     "text": [
      "🔍 FEATURE-TO-FEATURE CORRELATIONS (excluding target 'converted'):\n",
      "======================================================================\n",
      "Strongest correlation between features (excluding target):\n",
      "annual_income  interaction_count    0.027036\n",
      "dtype: float64\n",
      "\n",
      "Top 5 feature-to-feature correlations:\n",
      "1. annual_income <-> interaction_count: 0.027\n",
      "2. interaction_count <-> annual_income: 0.027\n",
      "3. number_of_courses_viewed <-> interaction_count: 0.024\n",
      "4. interaction_count <-> number_of_courses_viewed: 0.024\n",
      "5. annual_income <-> lead_score: 0.016\n"
     ]
    }
   ],
   "source": [
    "# Let's also look at correlations between features (excluding target variable)\n",
    "print(\"🔍 FEATURE-TO-FEATURE CORRELATIONS (excluding target 'converted'):\")\n",
    "print(\"=\" * 70)\n",
    "\n",
    "# Remove 'converted' from numerical features for feature-to-feature analysis\n",
    "feature_cols = [col for col in numerical if col != 'converted']\n",
    "feature_corr = df[feature_cols].corr()\n",
    "\n",
    "# Find strongest feature-to-feature correlation\n",
    "feature_pairs = feature_corr.unstack()\n",
    "feature_pairs = feature_pairs[feature_pairs < 1]  # Remove self-correlations\n",
    "strongest_feature_pair = feature_pairs.abs().sort_values(ascending=False).head(1)\n",
    "\n",
    "print(\"Strongest correlation between features (excluding target):\")\n",
    "print(strongest_feature_pair)\n",
    "print()\n",
    "\n",
    "# Show top 5 feature-to-feature correlations\n",
    "print(\"Top 5 feature-to-feature correlations:\")\n",
    "top_feature_pairs = feature_pairs.abs().sort_values(ascending=False).head(5)\n",
    "for i, (pair, corr) in enumerate(top_feature_pairs.items(), 1):\n",
    "    print(f\"{i}. {pair[0]} <-> {pair[1]}: {corr:.3f}\")"
   ]
  },
  {
   "cell_type": "markdown",
   "id": "4c38c954",
   "metadata": {},
   "source": [
    "### Data Splitting\n",
    "\n",
    "- Split the data into train/val/test sets with 60%/20%/20% distribution.\n",
    "- Use Scikit-Learn for that (the train_test_split function) and set the seed to 42.\n",
    "- Make sure that the target value y is not in your dataframe."
   ]
  },
  {
   "cell_type": "code",
   "execution_count": 22,
   "id": "ed615c22",
   "metadata": {},
   "outputs": [
    {
     "name": "stdout",
     "output_type": "stream",
     "text": [
      "Dataset shape: (1462, 9)\n",
      "Features shape: (1462, 8)\n",
      "Target shape: (1462,)\n",
      "Target distribution:\n",
      "converted\n",
      "1    905\n",
      "0    557\n",
      "Name: count, dtype: int64\n"
     ]
    }
   ],
   "source": [
    "from sklearn.model_selection import train_test_split\n",
    "\n",
    "# First, let's separate features and target\n",
    "X = df.drop('converted', axis=1)  # Features (all columns except target)\n",
    "y = df['converted']  # Target variable\n",
    "\n",
    "print(\"Dataset shape:\", df.shape)\n",
    "print(\"Features shape:\", X.shape)\n",
    "print(\"Target shape:\", y.shape)\n",
    "print(\"Target distribution:\")\n",
    "print(y.value_counts())"
   ]
  },
  {
   "cell_type": "code",
   "execution_count": 23,
   "id": "0f6f3584",
   "metadata": {},
   "outputs": [
    {
     "name": "stdout",
     "output_type": "stream",
     "text": [
      "Data split completed!\n",
      "========================================\n",
      "Original dataset size: 1462\n",
      "Training set size: 876 (59.9%)\n",
      "Validation set size: 293 (20.0%)\n",
      "Test set size: 293 (20.0%)\n",
      "========================================\n"
     ]
    }
   ],
   "source": [
    "# Split the data: 60% train, 20% val, 20% test\n",
    "# First split: 80% train+val, 20% test\n",
    "X_temp, X_test, y_temp, y_test = train_test_split(\n",
    "    X, y, test_size=0.2, random_state=42, stratify=y\n",
    ")\n",
    "\n",
    "# Second split: 60% train (75% of temp), 20% val (25% of temp)\n",
    "X_train, X_val, y_train, y_val = train_test_split(\n",
    "    X_temp, y_temp, test_size=0.25, random_state=42, stratify=y_temp\n",
    ")\n",
    "\n",
    "print(\"Data split completed!\")\n",
    "print(\"=\" * 40)\n",
    "print(f\"Original dataset size: {len(df)}\")\n",
    "print(f\"Training set size: {len(X_train)} ({len(X_train)/len(df)*100:.1f}%)\")\n",
    "print(f\"Validation set size: {len(X_val)} ({len(X_val)/len(df)*100:.1f}%)\")\n",
    "print(f\"Test set size: {len(X_test)} ({len(X_test)/len(df)*100:.1f}%)\")\n",
    "print(\"=\" * 40)"
   ]
  },
  {
   "cell_type": "code",
   "execution_count": 24,
   "id": "6488ff58",
   "metadata": {},
   "outputs": [
    {
     "name": "stdout",
     "output_type": "stream",
     "text": [
      "Target distribution across splits:\n",
      "==================================================\n",
      "\n",
      "Training set:\n",
      "converted\n",
      "1    0.619863\n",
      "0    0.380137\n",
      "Name: proportion, dtype: float64\n",
      "\n",
      "Validation set:\n",
      "converted\n",
      "1    0.617747\n",
      "0    0.382253\n",
      "Name: proportion, dtype: float64\n",
      "\n",
      "Test set:\n",
      "converted\n",
      "1    0.617747\n",
      "0    0.382253\n",
      "Name: proportion, dtype: float64\n",
      "\n",
      "Original dataset:\n",
      "converted\n",
      "1    0.619015\n",
      "0    0.380985\n",
      "Name: proportion, dtype: float64\n"
     ]
    }
   ],
   "source": [
    "# Verify the target distribution is maintained across splits (stratification)\n",
    "print(\"Target distribution across splits:\")\n",
    "print(\"=\" * 50)\n",
    "\n",
    "print(\"\\nTraining set:\")\n",
    "print(y_train.value_counts(normalize=True))\n",
    "\n",
    "print(\"\\nValidation set:\")\n",
    "print(y_val.value_counts(normalize=True))\n",
    "\n",
    "print(\"\\nTest set:\")\n",
    "print(y_test.value_counts(normalize=True))\n",
    "\n",
    "print(\"\\nOriginal dataset:\")\n",
    "print(y.value_counts(normalize=True))"
   ]
  },
  {
   "cell_type": "code",
   "execution_count": 25,
   "id": "1af69d79",
   "metadata": {},
   "outputs": [
    {
     "name": "stdout",
     "output_type": "stream",
     "text": [
      "Checking if target 'converted' is in feature sets:\n",
      "==================================================\n",
      "'converted' in X_train columns: False\n",
      "'converted' in X_val columns: False\n",
      "'converted' in X_test columns: False\n",
      "\n",
      "Feature columns in X_train: ['lead_source', 'industry', 'number_of_courses_viewed', 'annual_income', 'employment_status', 'location', 'interaction_count', 'lead_score']\n",
      "Shape verification:\n",
      "X_train: (876, 8), y_train: (876,)\n",
      "X_val: (293, 8), y_val: (293,)\n",
      "X_test: (293, 8), y_test: (293,)\n"
     ]
    }
   ],
   "source": [
    "# Final verification - make sure target is not in feature dataframes\n",
    "print(\"Checking if target 'converted' is in feature sets:\")\n",
    "print(\"=\" * 50)\n",
    "print(f\"'converted' in X_train columns: {'converted' in X_train.columns}\")\n",
    "print(f\"'converted' in X_val columns: {'converted' in X_val.columns}\")\n",
    "print(f\"'converted' in X_test columns: {'converted' in X_test.columns}\")\n",
    "\n",
    "print(f\"\\nFeature columns in X_train: {list(X_train.columns)}\")\n",
    "print(f\"Shape verification:\")\n",
    "print(f\"X_train: {X_train.shape}, y_train: {y_train.shape}\")\n",
    "print(f\"X_val: {X_val.shape}, y_val: {y_val.shape}\")\n",
    "print(f\"X_test: {X_test.shape}, y_test: {y_test.shape}\")"
   ]
  },
  {
   "cell_type": "markdown",
   "id": "8537280d",
   "metadata": {},
   "source": [
    "## Question 3\n",
    "\n",
    "Calculate the mutual information score between y and other categorical variables in the dataset. Use the training set only.\n",
    "Round the scores to 2 decimals using round(score, 2).\n",
    "Which of these variables has the biggest mutual information score?\n",
    "\n",
    "- industry\n",
    "- location\n",
    "- lead_source\n",
    "- employment_status"
   ]
  },
  {
   "cell_type": "code",
   "execution_count": 26,
   "id": "ea80e32b",
   "metadata": {},
   "outputs": [
    {
     "name": "stdout",
     "output_type": "stream",
     "text": [
      "Mutual Information Scores with target 'converted':\n",
      "=======================================================\n",
      "industry             | 0.01\n",
      "location             | 0.00\n",
      "lead_source          | 0.03\n",
      "employment_status    | 0.01\n",
      "=======================================================\n",
      "Highest MI score: lead_source (0.03)\n",
      "\n",
      "Answer: lead_source\n"
     ]
    }
   ],
   "source": [
    "from sklearn.metrics import mutual_info_score\n",
    "\n",
    "# Define the categorical variables to analyze\n",
    "categorical_vars = ['industry', 'location', 'lead_source', 'employment_status']\n",
    "\n",
    "print(\"Mutual Information Scores with target 'converted':\")\n",
    "print(\"=\" * 55)\n",
    "\n",
    "# Calculate mutual information for each categorical variable using training set only\n",
    "mi_scores = {}\n",
    "\n",
    "for var in categorical_vars:\n",
    "    # Calculate mutual information score between the categorical variable and target\n",
    "    mi_score = mutual_info_score(X_train[var], y_train)\n",
    "    mi_score_rounded = round(mi_score, 2)\n",
    "    mi_scores[var] = mi_score_rounded\n",
    "    print(f\"{var:20} | {mi_score_rounded:.2f}\")\n",
    "\n",
    "print(\"=\" * 55)\n",
    "\n",
    "# Find the variable with the highest mutual information score\n",
    "best_var = max(mi_scores, key=mi_scores.get)\n",
    "best_score = mi_scores[best_var]\n",
    "\n",
    "print(f\"Highest MI score: {best_var} ({best_score:.2f})\")\n",
    "print(f\"\\nAnswer: {best_var}\")"
   ]
  },
  {
   "cell_type": "code",
   "execution_count": null,
   "id": "00ee7fb5",
   "metadata": {},
   "outputs": [],
   "source": []
  },
  {
   "cell_type": "markdown",
   "id": "8546d814",
   "metadata": {},
   "source": [
    "## Question 4\n",
    "\n",
    "Now let's train a logistic regression.\n",
    "Remember that we have several categorical variables in the dataset. Include them using one-hot encoding.\n",
    "Fit the model on the training dataset.\n",
    "\n",
    "To make sure the results are reproducible across different versions of Scikit-Learn, fit the model with these parameters:\n",
    "```python\n",
    "model = LogisticRegression(solver='liblinear', C=1.0, max_iter=1000, random_state=42)\n",
    "```\n",
    "\n",
    "Calculate the accuracy on the validation dataset and round it to 2 decimal digits.\n",
    "What accuracy did you get?"
   ]
  },
  {
   "cell_type": "code",
   "execution_count": 27,
   "id": "b48b77d0",
   "metadata": {},
   "outputs": [
    {
     "name": "stdout",
     "output_type": "stream",
     "text": [
      "Setting up one-hot encoding for categorical variables...\n",
      "Training data converted: 876 records\n",
      "Validation data converted: 293 records\n"
     ]
    }
   ],
   "source": [
    "# Import required libraries for one-hot encoding and logistic regression\n",
    "from sklearn.feature_extraction import DictVectorizer\n",
    "from sklearn.linear_model import LogisticRegression\n",
    "from sklearn.metrics import accuracy_score\n",
    "\n",
    "print(\"Setting up one-hot encoding for categorical variables...\")\n",
    "\n",
    "# Convert training data to dictionary format for DictVectorizer\n",
    "train_dicts = X_train.to_dict(orient='records')\n",
    "val_dicts = X_val.to_dict(orient='records')\n",
    "\n",
    "print(f\"Training data converted: {len(train_dicts)} records\")\n",
    "print(f\"Validation data converted: {len(val_dicts)} records\")"
   ]
  },
  {
   "cell_type": "code",
   "execution_count": 28,
   "id": "ebf0ad14",
   "metadata": {},
   "outputs": [
    {
     "name": "stdout",
     "output_type": "stream",
     "text": [
      "One-hot encoding completed!\n",
      "==================================================\n",
      "Original features: 8\n",
      "Encoded features: 31\n",
      "Training set shape: (876, 31)\n",
      "Validation set shape: (293, 31)\n",
      "\n",
      "First 10 feature names: ['annual_income' 'employment_status=NA' 'employment_status=employed'\n",
      " 'employment_status=self_employed' 'employment_status=student'\n",
      " 'employment_status=unemployed' 'industry=NA' 'industry=education'\n",
      " 'industry=finance' 'industry=healthcare']\n",
      "Last 10 feature names: ['lead_source=social_media' 'location=NA' 'location=africa'\n",
      " 'location=asia' 'location=australia' 'location=europe'\n",
      " 'location=middle_east' 'location=north_america' 'location=south_america'\n",
      " 'number_of_courses_viewed']\n"
     ]
    }
   ],
   "source": [
    "# Apply one-hot encoding using DictVectorizer\n",
    "dv = DictVectorizer(sparse=False)\n",
    "\n",
    "# Fit and transform training data\n",
    "X_train_encoded = dv.fit_transform(train_dicts)\n",
    "\n",
    "# Transform validation data (don't fit again)\n",
    "X_val_encoded = dv.transform(val_dicts)\n",
    "\n",
    "print(\"One-hot encoding completed!\")\n",
    "print(\"=\" * 50)\n",
    "print(f\"Original features: {X_train.shape[1]}\")\n",
    "print(f\"Encoded features: {X_train_encoded.shape[1]}\")\n",
    "print(f\"Training set shape: {X_train_encoded.shape}\")\n",
    "print(f\"Validation set shape: {X_val_encoded.shape}\")\n",
    "\n",
    "# Show some of the feature names created by one-hot encoding\n",
    "feature_names = dv.get_feature_names_out()\n",
    "print(f\"\\nFirst 10 feature names: {feature_names[:10]}\")\n",
    "print(f\"Last 10 feature names: {feature_names[-10:]}\")"
   ]
  },
  {
   "cell_type": "code",
   "execution_count": 29,
   "id": "ba966905",
   "metadata": {},
   "outputs": [
    {
     "name": "stdout",
     "output_type": "stream",
     "text": [
      "Training logistic regression model...\n",
      "Model parameters:\n",
      "- solver: liblinear\n",
      "- C: 1.0\n",
      "- max_iter: 1000\n",
      "- random_state: 42\n",
      "\n",
      "Model training completed!\n"
     ]
    }
   ],
   "source": [
    "# Train the logistic regression model with specified parameters\n",
    "model = LogisticRegression(solver='liblinear', C=1.0, max_iter=1000, random_state=42)\n",
    "\n",
    "print(\"Training logistic regression model...\")\n",
    "print(\"Model parameters:\")\n",
    "print(f\"- solver: {model.solver}\")\n",
    "print(f\"- C: {model.C}\")\n",
    "print(f\"- max_iter: {model.max_iter}\")\n",
    "print(f\"- random_state: {model.random_state}\")\n",
    "\n",
    "# Fit the model on encoded training data\n",
    "model.fit(X_train_encoded, y_train)\n",
    "\n",
    "print(\"\\nModel training completed!\")"
   ]
  },
  {
   "cell_type": "code",
   "execution_count": 30,
   "id": "c1573516",
   "metadata": {},
   "outputs": [
    {
     "name": "stdout",
     "output_type": "stream",
     "text": [
      "Model Performance on Validation Set:\n",
      "========================================\n",
      "Accuracy: 0.730375\n",
      "Accuracy (rounded to 2 decimals): 0.73\n",
      "\n",
      "Answer: 0.73\n",
      "\n",
      "Detailed Results:\n",
      "Correct predictions: 214\n",
      "Total predictions: 293\n",
      "Validation set size: 293\n"
     ]
    }
   ],
   "source": [
    "# Make predictions on validation set\n",
    "y_pred = model.predict(X_val_encoded)\n",
    "\n",
    "# Calculate accuracy on validation set\n",
    "accuracy = accuracy_score(y_val, y_pred)\n",
    "accuracy_rounded = round(accuracy, 2)\n",
    "\n",
    "print(\"Model Performance on Validation Set:\")\n",
    "print(\"=\" * 40)\n",
    "print(f\"Accuracy: {accuracy:.6f}\")\n",
    "print(f\"Accuracy (rounded to 2 decimals): {accuracy_rounded}\")\n",
    "\n",
    "print(f\"\\nAnswer: {accuracy_rounded}\")\n",
    "\n",
    "# Additional performance details\n",
    "print(f\"\\nDetailed Results:\")\n",
    "print(f\"Correct predictions: {(y_pred == y_val).sum()}\")\n",
    "print(f\"Total predictions: {len(y_val)}\")\n",
    "print(f\"Validation set size: {len(y_val)}\")"
   ]
  },
  {
   "cell_type": "code",
   "execution_count": null,
   "id": "e3889d81",
   "metadata": {},
   "outputs": [],
   "source": []
  },
  {
   "cell_type": "markdown",
   "id": "b0d47438",
   "metadata": {},
   "source": [
    "## Question 5\n",
    "\n",
    "Let's find the least useful feature using the feature elimination technique.\n",
    "\n",
    "Train a model using the same features and parameters as in Q4 (without rounding).\n",
    "Now exclude each feature from this set and train a model without it. Record the accuracy for each model.\n",
    "For each feature, calculate the difference between the original accuracy and the accuracy without the feature.\n",
    "\n",
    "Which of following feature has the smallest difference?\n",
    "- 'industry'\n",
    "- 'employment_status'  \n",
    "- 'lead_score'\n",
    "\n",
    "Note: The difference doesn't have to be positive."
   ]
  },
  {
   "cell_type": "code",
   "execution_count": 32,
   "id": "a869f77f",
   "metadata": {},
   "outputs": [
    {
     "name": "stdout",
     "output_type": "stream",
     "text": [
      "Training baseline model with all features...\n",
      "Baseline accuracy (all features): 0.730375\n",
      "Total features in model: 31\n",
      "==================================================\n"
     ]
    }
   ],
   "source": [
    "# First, train the baseline model (same as Q4 but without rounding accuracy)\n",
    "print(\"Training baseline model with all features...\")\n",
    "\n",
    "# Use the same encoding and model from Q4\n",
    "baseline_model = LogisticRegression(solver='liblinear', C=1.0, max_iter=1000, random_state=42)\n",
    "baseline_model.fit(X_train_encoded, y_train)\n",
    "\n",
    "# Get baseline accuracy (without rounding)\n",
    "baseline_pred = baseline_model.predict(X_val_encoded)\n",
    "baseline_accuracy = accuracy_score(y_val, baseline_pred)\n",
    "\n",
    "print(f\"Baseline accuracy (all features): {baseline_accuracy:.6f}\")\n",
    "print(f\"Total features in model: {X_train_encoded.shape[1]}\")\n",
    "print(\"=\" * 50)"
   ]
  },
  {
   "cell_type": "code",
   "execution_count": 35,
   "id": "48bd6c39",
   "metadata": {},
   "outputs": [
    {
     "name": "stdout",
     "output_type": "stream",
     "text": [
      "Feature Elimination Analysis:\n",
      "============================================================\n",
      "\n",
      "Testing exclusion of feature: 'industry'\n",
      "  Features used: 23 (vs 31 baseline)\n",
      "  Accuracy without 'industry': 0.730375\n",
      "  Difference from baseline: 0.000000\n",
      "\n",
      "Testing exclusion of feature: 'employment_status'\n",
      "  Features used: 26 (vs 31 baseline)\n",
      "  Accuracy without 'employment_status': 0.733788\n",
      "  Difference from baseline: -0.003413\n",
      "\n",
      "Testing exclusion of feature: 'lead_score'\n",
      "  Features used: 30 (vs 31 baseline)\n",
      "  Accuracy without 'lead_score': 0.730375\n",
      "  Difference from baseline: 0.000000\n",
      "\n",
      "============================================================\n"
     ]
    }
   ],
   "source": [
    "# Features to test for elimination\n",
    "features_to_test = ['industry', 'employment_status', 'lead_score']\n",
    "\n",
    "print(\"Feature Elimination Analysis:\")\n",
    "print(\"=\" * 60)\n",
    "\n",
    "# Dictionary to store results\n",
    "elimination_results = {}\n",
    "\n",
    "for feature in features_to_test:\n",
    "    print(f\"\\nTesting exclusion of feature: '{feature}'\")\n",
    "    \n",
    "    # Create datasets without the specific feature\n",
    "    X_train_without = X_train.drop(columns=[feature])\n",
    "    X_val_without = X_val.drop(columns=[feature])\n",
    "    \n",
    "    # Convert to dictionaries for encoding\n",
    "    train_dicts_without = X_train_without.to_dict(orient='records')\n",
    "    val_dicts_without = X_val_without.to_dict(orient='records')\n",
    "    \n",
    "    # Apply one-hot encoding\n",
    "    dv_without = DictVectorizer(sparse=False)\n",
    "    X_train_encoded_without = dv_without.fit_transform(train_dicts_without)\n",
    "    X_val_encoded_without = dv_without.transform(val_dicts_without)\n",
    "    \n",
    "    # Train model without this feature\n",
    "    model_without = LogisticRegression(solver='liblinear', C=1.0, max_iter=1000, random_state=42)\n",
    "    model_without.fit(X_train_encoded_without, y_train)\n",
    "    \n",
    "    # Get accuracy without this feature\n",
    "    pred_without = model_without.predict(X_val_encoded_without)\n",
    "    accuracy_without = accuracy_score(y_val, pred_without)\n",
    "    \n",
    "    # Calculate the difference (baseline - without_feature)\n",
    "    difference = baseline_accuracy - accuracy_without\n",
    "    \n",
    "    # Store results\n",
    "    elimination_results[feature] = {\n",
    "        'accuracy_without': accuracy_without,\n",
    "        'difference': difference\n",
    "    }\n",
    "    \n",
    "    print(f\"  Features used: {X_train_encoded_without.shape[1]} (vs {X_train_encoded.shape[1]} baseline)\")\n",
    "    print(f\"  Accuracy without '{feature}': {accuracy_without:.6f}\")\n",
    "    print(f\"  Difference from baseline: {difference:.6f}\")\n",
    "\n",
    "print(\"\\n\" + \"=\" * 60)"
   ]
  },
  {
   "cell_type": "code",
   "execution_count": 36,
   "id": "8ee2b6e7",
   "metadata": {},
   "outputs": [
    {
     "name": "stdout",
     "output_type": "stream",
     "text": [
      "FEATURE ELIMINATION SUMMARY:\n",
      "============================================================\n",
      "Baseline accuracy (all features): 0.730375\n",
      "\n",
      "Results by feature exclusion:\n",
      "industry             | Accuracy: 0.730375 | Difference: +0.000000\n",
      "employment_status    | Accuracy: 0.733788 | Difference: -0.003413\n",
      "lead_score           | Accuracy: 0.730375 | Difference: +0.000000\n",
      "\n",
      "============================================================\n",
      "Feature with SMALLEST difference (least useful): 'employment_status'\n",
      "Difference: -0.003413\n",
      "\n",
      "Answer: employment_status\n",
      "\n",
      "Feature ranking by difference (least to most useful):\n",
      "1. employment_status    | Difference: -0.003413\n",
      "2. industry             | Difference: +0.000000\n",
      "3. lead_score           | Difference: +0.000000\n"
     ]
    }
   ],
   "source": [
    "# Summary of results\n",
    "print(\"FEATURE ELIMINATION SUMMARY:\")\n",
    "print(\"=\" * 60)\n",
    "print(f\"Baseline accuracy (all features): {baseline_accuracy:.6f}\")\n",
    "print()\n",
    "\n",
    "print(\"Results by feature exclusion:\")\n",
    "for feature, results in elimination_results.items():\n",
    "    print(f\"{feature:20} | Accuracy: {results['accuracy_without']:.6f} | Difference: {results['difference']:+.6f}\")\n",
    "\n",
    "print(\"\\n\" + \"=\" * 60)\n",
    "\n",
    "# Find the feature with the smallest difference (least useful)\n",
    "least_useful = min(elimination_results.keys(), key=lambda x: elimination_results[x]['difference'])\n",
    "smallest_diff = elimination_results[least_useful]['difference']\n",
    "\n",
    "print(f\"Feature with SMALLEST difference (least useful): '{least_useful}'\")\n",
    "print(f\"Difference: {smallest_diff:.6f}\")\n",
    "print(f\"\\nAnswer: {least_useful}\")\n",
    "\n",
    "# Show ranking of features by usefulness (smallest to largest difference)\n",
    "print(f\"\\nFeature ranking by difference (least to most useful):\")\n",
    "sorted_features = sorted(elimination_results.items(), key=lambda x: x[1]['difference'])\n",
    "for i, (feature, results) in enumerate(sorted_features, 1):\n",
    "    print(f\"{i}. {feature:20} | Difference: {results['difference']:+.6f}\")"
   ]
  },
  {
   "cell_type": "code",
   "execution_count": null,
   "id": "190cfd75",
   "metadata": {},
   "outputs": [],
   "source": []
  },
  {
   "cell_type": "markdown",
   "id": "027ea481",
   "metadata": {},
   "source": [
    "## Question 6\n",
    "\n",
    "Now let's train a regularized logistic regression.\n",
    "\n",
    "Let's try the following values of the parameter C: [0.01, 0.1, 1, 10, 100].\n",
    "Train models using all the features as in Q4.\n",
    "Calculate the accuracy on the validation dataset and round it to 3 decimal digits.\n",
    "\n",
    "Which of these C leads to the best accuracy on the validation set?\n",
    "- 0.01\n",
    "- 0.1\n",
    "- 1\n",
    "- 10\n",
    "- 100\n",
    "\n",
    "Note: If there are multiple options, select the smallest C."
   ]
  },
  {
   "cell_type": "code",
   "execution_count": 40,
   "id": "0f993439",
   "metadata": {},
   "outputs": [
    {
     "name": "stdout",
     "output_type": "stream",
     "text": [
      "Regularized Logistic Regression - Testing different C values:\n",
      "=================================================================\n",
      "Using encoded features: 31 features\n",
      "Training set size: 876\n",
      "Validation set size: 293\n",
      "\n",
      "Testing C = 0.01\n",
      "  Accuracy: 0.733788\n",
      "  Accuracy (rounded to 3 decimals): 0.734\n",
      "\n",
      "Testing C = 0.1\n",
      "  Accuracy: 0.730375\n",
      "  Accuracy (rounded to 3 decimals): 0.73\n",
      "\n",
      "Testing C = 1\n",
      "  Accuracy: 0.730375\n",
      "  Accuracy (rounded to 3 decimals): 0.73\n",
      "\n",
      "Testing C = 10\n",
      "  Accuracy: 0.730375\n",
      "  Accuracy (rounded to 3 decimals): 0.73\n",
      "\n",
      "Testing C = 100\n",
      "  Accuracy: 0.730375\n",
      "  Accuracy (rounded to 3 decimals): 0.73\n",
      "\n",
      "=================================================================\n"
     ]
    }
   ],
   "source": [
    "# Test different C values for regularized logistic regression\n",
    "C_values = [0.01, 0.1, 1, 10, 100]\n",
    "\n",
    "print(\"Regularized Logistic Regression - Testing different C values:\")\n",
    "print(\"=\" * 65)\n",
    "\n",
    "# Dictionary to store results\n",
    "regularization_results = {}\n",
    "\n",
    "# Use the same encoded data from Q4 (X_train_encoded, X_val_encoded)\n",
    "print(f\"Using encoded features: {X_train_encoded.shape[1]} features\")\n",
    "print(f\"Training set size: {X_train_encoded.shape[0]}\")\n",
    "print(f\"Validation set size: {X_val_encoded.shape[0]}\")\n",
    "print()\n",
    "\n",
    "for C in C_values:\n",
    "    print(f\"Testing C = {C}\")\n",
    "    \n",
    "    # Train logistic regression with the current C value\n",
    "    # Keep same parameters as Q4 except for C\n",
    "    model_reg = LogisticRegression(solver='liblinear', C=C, max_iter=1000, random_state=42)\n",
    "    model_reg.fit(X_train_encoded, y_train)\n",
    "    \n",
    "    # Make predictions on validation set\n",
    "    y_pred_reg = model_reg.predict(X_val_encoded)\n",
    "    \n",
    "    # Calculate accuracy and round to 3 decimal places\n",
    "    accuracy_reg = accuracy_score(y_val, y_pred_reg)\n",
    "    accuracy_rounded = round(accuracy_reg, 3)\n",
    "    \n",
    "    # Store results\n",
    "    regularization_results[C] = accuracy_rounded\n",
    "    \n",
    "    print(f\"  Accuracy: {accuracy_reg:.6f}\")\n",
    "    print(f\"  Accuracy (rounded to 3 decimals): {accuracy_rounded}\")\n",
    "    print()\n",
    "\n",
    "print(\"=\" * 65)"
   ]
  },
  {
   "cell_type": "code",
   "execution_count": 38,
   "id": "86c87a72",
   "metadata": {},
   "outputs": [
    {
     "name": "stdout",
     "output_type": "stream",
     "text": [
      "REGULARIZATION RESULTS SUMMARY:\n",
      "=================================================================\n",
      "C Value | Accuracy (3 decimals)\n",
      "--------------------------------\n",
      "   0.01 | 0.734\n",
      "    0.1 | 0.730\n",
      "      1 | 0.730\n",
      "     10 | 0.730\n",
      "    100 | 0.730\n",
      "\n",
      "=================================================================\n",
      "Best C value: 0.01\n",
      "Best accuracy: 0.734\n",
      "\n",
      "Answer: 0.01\n",
      "\n",
      "Ranking (best to worst accuracy):\n",
      "1. C =  0.01 | Accuracy = 0.734\n",
      "2. C =   0.1 | Accuracy = 0.730\n",
      "3. C =     1 | Accuracy = 0.730\n",
      "4. C =    10 | Accuracy = 0.730\n",
      "5. C =   100 | Accuracy = 0.730\n"
     ]
    }
   ],
   "source": [
    "# Summary of regularization results\n",
    "print(\"REGULARIZATION RESULTS SUMMARY:\")\n",
    "print(\"=\" * 65)\n",
    "\n",
    "print(\"C Value | Accuracy (3 decimals)\")\n",
    "print(\"-\" * 32)\n",
    "for C, accuracy in regularization_results.items():\n",
    "    print(f\"{C:7} | {accuracy:.3f}\")\n",
    "\n",
    "print(\"\\n\" + \"=\" * 65)\n",
    "\n",
    "# Find the best C value (highest accuracy)\n",
    "best_C = max(regularization_results.keys(), key=lambda x: regularization_results[x])\n",
    "best_accuracy = regularization_results[best_C]\n",
    "\n",
    "print(f\"Best C value: {best_C}\")\n",
    "print(f\"Best accuracy: {best_accuracy:.3f}\")\n",
    "\n",
    "# Check if there are ties and select smallest C in case of tie\n",
    "max_accuracy = max(regularization_results.values())\n",
    "tied_C_values = [C for C, acc in regularization_results.items() if acc == max_accuracy]\n",
    "\n",
    "if len(tied_C_values) > 1:\n",
    "    print(f\"\\nMultiple C values achieved the same best accuracy ({max_accuracy:.3f}):\")\n",
    "    for C in sorted(tied_C_values):\n",
    "        print(f\"  C = {C}\")\n",
    "    \n",
    "    # Select smallest C as instructed\n",
    "    smallest_best_C = min(tied_C_values)\n",
    "    print(f\"\\nSelecting smallest C: {smallest_best_C}\")\n",
    "    print(f\"\\nAnswer: {smallest_best_C}\")\n",
    "else:\n",
    "    print(f\"\\nAnswer: {best_C}\")\n",
    "\n",
    "# Show ranking from best to worst\n",
    "print(f\"\\nRanking (best to worst accuracy):\")\n",
    "sorted_results = sorted(regularization_results.items(), key=lambda x: x[1], reverse=True)\n",
    "for i, (C, accuracy) in enumerate(sorted_results, 1):\n",
    "    print(f\"{i}. C = {C:5} | Accuracy = {accuracy:.3f}\")"
   ]
  },
  {
   "cell_type": "markdown",
   "id": "318e9930",
   "metadata": {},
   "source": [
    "## Module 3 Notes: \n",
    "\n",
    "- https://github.com/anormanangel/Machine-Learning-Zoomcamp/blob/main/03-Classification/Churn%20Prediction.ipynb"
   ]
  }
 ],
 "metadata": {
  "kernelspec": {
   "display_name": "base",
   "language": "python",
   "name": "python3"
  },
  "language_info": {
   "codemirror_mode": {
    "name": "ipython",
    "version": 3
   },
   "file_extension": ".py",
   "mimetype": "text/x-python",
   "name": "python",
   "nbconvert_exporter": "python",
   "pygments_lexer": "ipython3",
   "version": "3.11.7"
  }
 },
 "nbformat": 4,
 "nbformat_minor": 5
}
