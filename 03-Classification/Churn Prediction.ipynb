{
 "cells": [
  {
   "cell_type": "markdown",
   "id": "962516bc",
   "metadata": {},
   "source": [
    "# Machine Learning for Classification\n",
    "\n",
    "Hi I'm Norman, these are my note from module three of the ML ZoomCamp.\n",
    "\n",
    "Connect with me on [LinkedIn](https://www.linkedin.com/in/anormanangel/) and [Twitter](https://x.com/anormanangel).\n"
   ]
  },
  {
   "cell_type": "markdown",
   "id": "6f0fde68",
   "metadata": {},
   "source": []
  },
  {
   "cell_type": "code",
   "execution_count": null,
   "id": "83a50915",
   "metadata": {
    "vscode": {
     "languageId": "plaintext"
    }
   },
   "outputs": [],
   "source": []
  },
  {
   "cell_type": "code",
   "execution_count": null,
   "id": "21a54358",
   "metadata": {
    "vscode": {
     "languageId": "plaintext"
    }
   },
   "outputs": [],
   "source": []
  },
  {
   "cell_type": "code",
   "execution_count": null,
   "id": "3db52058",
   "metadata": {
    "vscode": {
     "languageId": "plaintext"
    }
   },
   "outputs": [],
   "source": []
  }
 ],
 "metadata": {
  "language_info": {
   "name": "python"
  }
 },
 "nbformat": 4,
 "nbformat_minor": 5
}
