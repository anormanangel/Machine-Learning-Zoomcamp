{
 "cells": [
  {
   "cell_type": "markdown",
   "id": "54b1c73e",
   "metadata": {},
   "source": [
    "# Deploying Machine Learning Models\n",
    "\n",
    "Hi, I'm Norman! These are my notes from Module 5 of the ML ZoomCamp.\n",
    "\n",
    "Let’s connect on [LinkedIn](https://www.linkedin.com/in/anormanangel/) and [Twitter](https://x.com/anormanangel) to keep learning together."
   ]
  },
  {
   "cell_type": "markdown",
   "id": "79db4754",
   "metadata": {},
   "source": []
  }
 ],
 "metadata": {
  "language_info": {
   "name": "python"
  }
 },
 "nbformat": 4,
 "nbformat_minor": 5
}
