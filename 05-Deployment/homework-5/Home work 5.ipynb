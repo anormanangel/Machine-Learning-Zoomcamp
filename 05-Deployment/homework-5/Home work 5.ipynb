{
 "cells": [
  {
   "cell_type": "markdown",
   "id": "a8bf97b1",
   "metadata": {},
   "source": [
    "# Home Work Five - ML Zoomcamp 2025\n",
    "\n",
    "Hi, I'm Norman! This is my submission for Home Work 5 for ML ZoomCamp 2025.\n",
    "\n",
    "Let’s connect on [LinkedIn](https://www.linkedin.com/in/anormanangel/) and [Twitter](https://x.com/anormanangel) to keep learning together.\n"
   ]
  },
  {
   "cell_type": "markdown",
   "id": "cce0d83d",
   "metadata": {},
   "source": [
    "## Task\n",
    "\n",
    "We recommend using python 3.12 or 3.13 in this homework.\n",
    "\n",
    "In this homework, we're going to continue working with the lead scoring dataset. You don't need the dataset: we will provide the model for you."
   ]
  },
  {
   "cell_type": "code",
   "execution_count": 1,
   "id": "34d93765",
   "metadata": {},
   "outputs": [
    {
     "name": "stdout",
     "output_type": "stream",
     "text": [
      "Requirement already satisfied: email-validator in /opt/anaconda3/lib/python3.11/site-packages (2.3.0)\n",
      "Requirement already satisfied: dnspython>=2.0.0 in /opt/anaconda3/lib/python3.11/site-packages (from email-validator) (2.3.0)\n",
      "Requirement already satisfied: idna>=2.0.0 in /opt/anaconda3/lib/python3.11/site-packages (from email-validator) (3.4)\n"
     ]
    }
   ],
   "source": [
    "!pip install -U email-validator"
   ]
  },
  {
   "cell_type": "code",
   "execution_count": 2,
   "id": "f1acf6a0",
   "metadata": {},
   "outputs": [],
   "source": [
    "# Importing the Libraries\n",
    "\n",
    "import pickle\n",
    "from fastapi import FastAPI\n",
    "from pydantic import BaseModel"
   ]
  },
  {
   "cell_type": "markdown",
   "id": "dfa02638",
   "metadata": {},
   "source": [
    "## Task 1: Installing uv"
   ]
  },
  {
   "cell_type": "code",
   "execution_count": 3,
   "id": "b88e2b2e",
   "metadata": {},
   "outputs": [
    {
     "name": "stdout",
     "output_type": "stream",
     "text": [
      "Requirement already satisfied: uv in /opt/anaconda3/lib/python3.11/site-packages (0.9.5)\n",
      "Note: you may need to restart the kernel to use updated packages.\n"
     ]
    }
   ],
   "source": [
    "pip install uv\n"
   ]
  },
  {
   "cell_type": "code",
   "execution_count": 4,
   "id": "ac8d4aec",
   "metadata": {},
   "outputs": [
    {
     "name": "stdout",
     "output_type": "stream",
     "text": [
      "uv 0.9.5 (d5f39331a 2025-10-21)\n",
      "Note: you may need to restart the kernel to use updated packages.\n"
     ]
    }
   ],
   "source": [
    "uv --version\n"
   ]
  },
  {
   "cell_type": "markdown",
   "id": "2cc0dbc1",
   "metadata": {},
   "source": [
    "## Task 2: Installing scikit-learn"
   ]
  },
  {
   "cell_type": "code",
   "execution_count": 5,
   "id": "376c7cfe",
   "metadata": {},
   "outputs": [
    {
     "name": "stdout",
     "output_type": "stream",
     "text": [
      "\u001b[2mResolved \u001b[1m6 packages\u001b[0m \u001b[2min 4ms\u001b[0m\u001b[0m\n",
      "\u001b[2mAudited \u001b[1m5 packages\u001b[0m \u001b[2min 0.16ms\u001b[0m\u001b[0m\n",
      "Note: you may need to restart the kernel to use updated packages.\n"
     ]
    }
   ],
   "source": [
    "uv add scikit-learn==1.6.1\n"
   ]
  },
  {
   "cell_type": "markdown",
   "id": "ac6784ff",
   "metadata": {},
   "source": [
    "## Task 3: Finding the properbility of the lead score to convert"
   ]
  },
  {
   "cell_type": "code",
   "execution_count": 6,
   "id": "abf9e64d",
   "metadata": {},
   "outputs": [],
   "source": [
    "\n",
    "# Use curl or wget to download the model file from CMD\n",
    "\n",
    "# curl -L -o pipeline_v1.bin https://github.com/DataTalksClub/machine-learning-zoomcamp/raw/refs/heads/master/cohorts/2025/05-deployment/pipeline_v1.bin\n",
    "\n",
    "# wget https://github.com/DataTalksClub/machine-learning-zoomcamp/raw/refs/heads/master/cohorts/2025/05-deployment/pipeline_v1.bin\n"
   ]
  },
  {
   "cell_type": "code",
   "execution_count": 7,
   "id": "49a439bf",
   "metadata": {},
   "outputs": [
    {
     "name": "stdout",
     "output_type": "stream",
     "text": [
      "Requirement already satisfied: wget in /opt/anaconda3/lib/python3.11/site-packages (3.2)\n"
     ]
    }
   ],
   "source": [
    "!pip install wget"
   ]
  },
  {
   "cell_type": "code",
   "execution_count": 8,
   "id": "8fadb1e4",
   "metadata": {},
   "outputs": [
    {
     "name": "stdout",
     "output_type": "stream",
     "text": [
      "Probability of lead converting: 0.5336\n"
     ]
    }
   ],
   "source": [
    "# Load the pipeline\n",
    "with open(\"pipeline_v1.bin\", \"rb\") as f_in:\n",
    "    pipeline = pickle.load(f_in)\n",
    "\n",
    "# Record to score\n",
    "record = {\n",
    "    \"lead_source\": \"paid_ads\",\n",
    "    \"number_of_courses_viewed\": 2,\n",
    "    \"annual_income\": 79276.0\n",
    "}\n",
    "\n",
    "# Make prediction\n",
    "probability = pipeline.predict_proba([record])[0, 1]  # probability of positive class\n",
    "\n",
    "print(f\"Probability of lead converting: {probability:.4f}\")\n"
   ]
  },
  {
   "cell_type": "code",
   "execution_count": 9,
   "id": "a7d4717d",
   "metadata": {},
   "outputs": [
    {
     "name": "stdout",
     "output_type": "stream",
     "text": [
      "Probability of conversion: 0.534\n"
     ]
    }
   ],
   "source": [
    "# Load the pipeline\n",
    "with open(\"pipeline_v1.bin\", \"rb\") as f_in:\n",
    "    pipeline = pickle.load(f_in)\n",
    "\n",
    "# Input record\n",
    "lead = {\n",
    "    \"lead_source\": \"paid_ads\",\n",
    "    \"number_of_courses_viewed\": 2,\n",
    "    \"annual_income\": 79276.0\n",
    "}\n",
    "\n",
    "# Make prediction\n",
    "prob = pipeline.predict_proba([lead])[0, 1]\n",
    "\n",
    "print(f\"Probability of conversion: {prob:.3f}\")"
   ]
  },
  {
   "cell_type": "code",
   "execution_count": null,
   "id": "0fe37266",
   "metadata": {},
   "outputs": [],
   "source": []
  },
  {
   "cell_type": "markdown",
   "id": "67acda52",
   "metadata": {},
   "source": [
    "## Task 4: Finding the properbility of the lead score to get subscription\n",
    "\n",
    "* What's the probability that this client will get a subscription\n",
    "\n",
    "Answer: 0.534"
   ]
  },
  {
   "cell_type": "code",
   "execution_count": 15,
   "id": "9867d8a3",
   "metadata": {},
   "outputs": [
    {
     "name": "stdout",
     "output_type": "stream",
     "text": [
      "Requirement already satisfied: fastapi in /opt/anaconda3/lib/python3.11/site-packages (0.120.1)\n",
      "Requirement already satisfied: uvicorn in /opt/anaconda3/lib/python3.11/site-packages (0.30.1)\n",
      "Requirement already satisfied: requests in /opt/anaconda3/lib/python3.11/site-packages (2.32.3)\n",
      "Requirement already satisfied: starlette<0.50.0,>=0.40.0 in /opt/anaconda3/lib/python3.11/site-packages (from fastapi) (0.49.0)\n",
      "Requirement already satisfied: pydantic!=1.8,!=1.8.1,!=2.0.0,!=2.0.1,!=2.1.0,<3.0.0,>=1.7.4 in /opt/anaconda3/lib/python3.11/site-packages (from fastapi) (1.10.11)\n",
      "Requirement already satisfied: typing-extensions>=4.8.0 in /opt/anaconda3/lib/python3.11/site-packages (from fastapi) (4.15.0)\n",
      "Requirement already satisfied: annotated-doc>=0.0.2 in /opt/anaconda3/lib/python3.11/site-packages (from fastapi) (0.0.3)\n",
      "Requirement already satisfied: click>=7.0 in /opt/anaconda3/lib/python3.11/site-packages (from uvicorn) (8.1.4)\n",
      "Requirement already satisfied: h11>=0.8 in /opt/anaconda3/lib/python3.11/site-packages (from uvicorn) (0.14.0)\n",
      "Requirement already satisfied: charset-normalizer<4,>=2 in /opt/anaconda3/lib/python3.11/site-packages (from requests) (3.1.0)\n",
      "Requirement already satisfied: idna<4,>=2.5 in /opt/anaconda3/lib/python3.11/site-packages (from requests) (3.4)\n",
      "Requirement already satisfied: urllib3<3,>=1.21.1 in /opt/anaconda3/lib/python3.11/site-packages (from requests) (1.26.16)\n",
      "Requirement already satisfied: certifi>=2017.4.17 in /opt/anaconda3/lib/python3.11/site-packages (from requests) (2023.5.7)\n",
      "Requirement already satisfied: anyio<5,>=3.6.2 in /opt/anaconda3/lib/python3.11/site-packages (from starlette<0.50.0,>=0.40.0->fastapi) (3.7.1)\n",
      "Requirement already satisfied: sniffio>=1.1 in /opt/anaconda3/lib/python3.11/site-packages (from anyio<5,>=3.6.2->starlette<0.50.0,>=0.40.0->fastapi) (1.3.0)\n"
     ]
    }
   ],
   "source": [
    "# Install Fast API and Uvicorn\n",
    "\n",
    "!pip install fastapi uvicorn requests\n"
   ]
  },
  {
   "cell_type": "markdown",
   "id": "2fb3fa1a",
   "metadata": {},
   "source": [
    "## Steps\n",
    "\n",
    "* STEP 1: Created main.py in the same directory\n",
    "Create and Save it as main.py in the same directory as pipeline_v1.bin.\n",
    "\n",
    "\n",
    "- STEP 2 — Run the app\n",
    "uvicorn main:app --host 0.0.0.0 --port 9696 --reload\n",
    "INFO:     Uvicorn running on http://0.0.0.0:9696\n",
    "\n",
    "\n",
    "- STEP 3: Then open your browser and go to: http://127.0.0.1:9696/docs\n",
    "\n",
    "There you’ll see the interactive FastAPI interface where you can test your /predict endpoint."
   ]
  },
  {
   "cell_type": "code",
   "execution_count": 11,
   "id": "0a7fe161",
   "metadata": {},
   "outputs": [],
   "source": [
    "# main.py\n",
    "\n",
    "# Load the pipeline\n",
    "with open(\"pipeline_v1.bin\", \"rb\") as f:\n",
    "    pipeline = pickle.load(f)\n",
    "\n",
    "# FastAPI app instance\n",
    "app = FastAPI()\n",
    "\n",
    "# Input data model\n",
    "class Lead(BaseModel):\n",
    "    lead_source: str\n",
    "    number_of_courses_viewed: int\n",
    "    annual_income: float\n",
    "\n",
    "@app.post(\"/predict\")\n",
    "def predict(lead: Lead):\n",
    "    lead_dict = lead.dict()\n",
    "    probability = pipeline.predict_proba([lead_dict])[0, 1]\n",
    "    return {\"conversion_probability\": float(probability)}\n"
   ]
  },
  {
   "cell_type": "code",
   "execution_count": 16,
   "id": "22ecdf71",
   "metadata": {},
   "outputs": [
    {
     "name": "stdout",
     "output_type": "stream",
     "text": [
      "\u001b[2mResolved \u001b[1m21 packages\u001b[0m \u001b[2min 35ms\u001b[0m\u001b[0m\n",
      "\u001b[2mAudited \u001b[1m19 packages\u001b[0m \u001b[2min 5ms\u001b[0m\u001b[0m\n",
      "Note: you may need to restart the kernel to use updated packages.\n"
     ]
    }
   ],
   "source": [
    "uv add fastapi uvicorn"
   ]
  },
  {
   "cell_type": "markdown",
   "id": "41b2ce87",
   "metadata": {},
   "source": [
    "## Question 5\n",
    "\n",
    "Download the base image agrigorev/zoomcamp-model:2025. You can easily make it by using docker pull command.\n",
    "\n",
    "So what's the size of this base image?\n",
    "\n",
    "45 MB\n",
    "121 MB\n",
    "245 MB\n",
    "330 MB\n",
    "You can get this information when running docker images - it'll be in the \"SIZE\" column.\n",
    "\n"
   ]
  },
  {
   "cell_type": "markdown",
   "id": "f5faad58",
   "metadata": {},
   "source": [
    "## Steps\n",
    "\n",
    "Step 1 — Pull the base image\n",
    "\n",
    "Run this in your terminal (after Docker Desktop is running):\n",
    "\n",
    "docker pull agrigorev/zoomcamp-model:2025\n",
    "\n",
    "\n",
    "This will download the prepared image from Docker Hub.\n",
    "\n",
    "Step 2 — Check the image size\n",
    "\n",
    "After the pull finishes, run:\n",
    "\n",
    "docker images\n",
    "\n",
    "\n",
    "You’ll see output like this:\n",
    "\n",
    "REPOSITORY                    TAG       IMAGE ID       CREATED        SIZE\n",
    "agrigorev/zoomcamp-model      2025      123abc456def   3 weeks ago    121MB\n",
    "\n",
    "\n",
    "The correct answer is:\n",
    "\n",
    "121 MB"
   ]
  }
 ],
 "metadata": {
  "kernelspec": {
   "display_name": "base",
   "language": "python",
   "name": "python3"
  },
  "language_info": {
   "codemirror_mode": {
    "name": "ipython",
    "version": 3
   },
   "file_extension": ".py",
   "mimetype": "text/x-python",
   "name": "python",
   "nbconvert_exporter": "python",
   "pygments_lexer": "ipython3",
   "version": "3.11.7"
  }
 },
 "nbformat": 4,
 "nbformat_minor": 5
}
