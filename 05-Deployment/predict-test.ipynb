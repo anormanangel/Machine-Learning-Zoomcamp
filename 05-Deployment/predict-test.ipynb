{
 "cells": [
  {
   "cell_type": "code",
   "execution_count": 1,
   "id": "317b3c83",
   "metadata": {},
   "outputs": [],
   "source": [
    "import requests"
   ]
  },
  {
   "cell_type": "code",
   "execution_count": 2,
   "id": "5fe41351",
   "metadata": {},
   "outputs": [],
   "source": [
    "url = 'http://localhost:9696/predict'"
   ]
  },
  {
   "cell_type": "code",
   "execution_count": null,
   "id": "9e8791bc",
   "metadata": {},
   "outputs": [],
   "source": [
    "customer = {\n",
    "  \"gender\": \"female\",\n",
    "  \"seniorcitizen\": 0,\n",
    "  \"partner\": \"yes\",\n",
    "  \"dependents\": \"no\",\n",
    "  \"phoneservice\": \"no\",\n",
    "  \"multiplelines\": \"no_phone_service\",\n",
    "  \"internetservice\": \"dsl\",\n",
    "  \"onlinesecurity\": \"no\",\n",
    "  \"onlinebackup\": \"yes\",\n",
    "  \"deviceprotection\": \"no\",\n",
    "  \"techsupport\": \"no\",\n",
    "  \"streamingtv\": \"no\",\n",
    "  \"streamingmovies\": \"no\",\n",
    "  \"contract\": \"month-to-month\",\n",
    "  \"paperlessbilling\": \"yes\",\n",
    "  \"paymentmethod\": \"electronic_check\",\n",
    "  \"tenure\": 1,\n",
    "  \"monthlycharges\": 29.85,\n",
    "  \"totalcharges\": 29.85\n",
    "}"
   ]
  },
  {
   "cell_type": "code",
   "execution_count": 18,
   "id": "b5a80e99",
   "metadata": {},
   "outputs": [
    {
     "name": "stdout",
     "output_type": "stream",
     "text": [
      "{'churn': True, 'churn_probability': 0.6274102629636127}\n"
     ]
    }
   ],
   "source": [
    "response = requests.post(url, json=customer).json()\n",
    "print(response)"
   ]
  },
  {
   "cell_type": "code",
   "execution_count": 17,
   "id": "d0d0f8ea",
   "metadata": {},
   "outputs": [
    {
     "name": "stdout",
     "output_type": "stream",
     "text": [
      "sending promo email to xyz-123\n"
     ]
    }
   ],
   "source": [
    "if response['churn'] == True:\n",
    "    print('sending promo email to %s' % ('xyz-123'))\n",
    "else:\n",
    "    print('not sending promo email to %s' % ('xyz-123'))\n"
   ]
  }
 ],
 "metadata": {
  "kernelspec": {
   "display_name": "base",
   "language": "python",
   "name": "python3"
  },
  "language_info": {
   "codemirror_mode": {
    "name": "ipython",
    "version": 3
   },
   "file_extension": ".py",
   "mimetype": "text/x-python",
   "name": "python",
   "nbconvert_exporter": "python",
   "pygments_lexer": "ipython3",
   "version": "3.11.7"
  }
 },
 "nbformat": 4,
 "nbformat_minor": 5
}
