{
 "cells": [
  {
   "cell_type": "markdown",
   "id": "8593ad93",
   "metadata": {},
   "source": [
    "# Home Work Two - ML Zoomcamp 2025\n",
    "\n",
    "Hi, I'm Norman! This is my submission for Home Work 2 for ML ZoomCamp 2025.\n",
    "\n",
    "Let’s connect on [LinkedIn](https://www.linkedin.com/in/anormanangel/) and [Twitter](https://x.com/anormanangel) to keep learning together.\n"
   ]
  },
  {
   "cell_type": "code",
   "execution_count": 1,
   "id": "56ad9866",
   "metadata": {},
   "outputs": [],
   "source": [
    "# Importing Libraries\n",
    "\n",
    "import pandas as pd\n",
    "import numpy as np\n",
    "import matplotlib.pyplot as plt\n",
    "import seaborn as sns\n",
    "%matplotlib inline"
   ]
  },
  {
   "cell_type": "code",
   "execution_count": 2,
   "id": "366d14d6",
   "metadata": {},
   "outputs": [
    {
     "data": {
      "text/html": [
       "<div>\n",
       "<style scoped>\n",
       "    .dataframe tbody tr th:only-of-type {\n",
       "        vertical-align: middle;\n",
       "    }\n",
       "\n",
       "    .dataframe tbody tr th {\n",
       "        vertical-align: top;\n",
       "    }\n",
       "\n",
       "    .dataframe thead th {\n",
       "        text-align: right;\n",
       "    }\n",
       "</style>\n",
       "<table border=\"1\" class=\"dataframe\">\n",
       "  <thead>\n",
       "    <tr style=\"text-align: right;\">\n",
       "      <th></th>\n",
       "      <th>engine_displacement</th>\n",
       "      <th>num_cylinders</th>\n",
       "      <th>horsepower</th>\n",
       "      <th>vehicle_weight</th>\n",
       "      <th>acceleration</th>\n",
       "      <th>model_year</th>\n",
       "      <th>origin</th>\n",
       "      <th>fuel_type</th>\n",
       "      <th>drivetrain</th>\n",
       "      <th>num_doors</th>\n",
       "      <th>fuel_efficiency_mpg</th>\n",
       "    </tr>\n",
       "  </thead>\n",
       "  <tbody>\n",
       "    <tr>\n",
       "      <th>0</th>\n",
       "      <td>170</td>\n",
       "      <td>3.0</td>\n",
       "      <td>159.0</td>\n",
       "      <td>3413.433759</td>\n",
       "      <td>17.7</td>\n",
       "      <td>2003</td>\n",
       "      <td>Europe</td>\n",
       "      <td>Gasoline</td>\n",
       "      <td>All-wheel drive</td>\n",
       "      <td>0.0</td>\n",
       "      <td>13.231729</td>\n",
       "    </tr>\n",
       "    <tr>\n",
       "      <th>1</th>\n",
       "      <td>130</td>\n",
       "      <td>5.0</td>\n",
       "      <td>97.0</td>\n",
       "      <td>3149.664934</td>\n",
       "      <td>17.8</td>\n",
       "      <td>2007</td>\n",
       "      <td>USA</td>\n",
       "      <td>Gasoline</td>\n",
       "      <td>Front-wheel drive</td>\n",
       "      <td>0.0</td>\n",
       "      <td>13.688217</td>\n",
       "    </tr>\n",
       "    <tr>\n",
       "      <th>2</th>\n",
       "      <td>170</td>\n",
       "      <td>NaN</td>\n",
       "      <td>78.0</td>\n",
       "      <td>3079.038997</td>\n",
       "      <td>15.1</td>\n",
       "      <td>2018</td>\n",
       "      <td>Europe</td>\n",
       "      <td>Gasoline</td>\n",
       "      <td>Front-wheel drive</td>\n",
       "      <td>0.0</td>\n",
       "      <td>14.246341</td>\n",
       "    </tr>\n",
       "    <tr>\n",
       "      <th>3</th>\n",
       "      <td>220</td>\n",
       "      <td>4.0</td>\n",
       "      <td>NaN</td>\n",
       "      <td>2542.392402</td>\n",
       "      <td>20.2</td>\n",
       "      <td>2009</td>\n",
       "      <td>USA</td>\n",
       "      <td>Diesel</td>\n",
       "      <td>All-wheel drive</td>\n",
       "      <td>2.0</td>\n",
       "      <td>16.912736</td>\n",
       "    </tr>\n",
       "    <tr>\n",
       "      <th>4</th>\n",
       "      <td>210</td>\n",
       "      <td>1.0</td>\n",
       "      <td>140.0</td>\n",
       "      <td>3460.870990</td>\n",
       "      <td>14.4</td>\n",
       "      <td>2009</td>\n",
       "      <td>Europe</td>\n",
       "      <td>Gasoline</td>\n",
       "      <td>All-wheel drive</td>\n",
       "      <td>2.0</td>\n",
       "      <td>12.488369</td>\n",
       "    </tr>\n",
       "  </tbody>\n",
       "</table>\n",
       "</div>"
      ],
      "text/plain": [
       "   engine_displacement  num_cylinders  horsepower  vehicle_weight  \\\n",
       "0                  170            3.0       159.0     3413.433759   \n",
       "1                  130            5.0        97.0     3149.664934   \n",
       "2                  170            NaN        78.0     3079.038997   \n",
       "3                  220            4.0         NaN     2542.392402   \n",
       "4                  210            1.0       140.0     3460.870990   \n",
       "\n",
       "   acceleration  model_year  origin fuel_type         drivetrain  num_doors  \\\n",
       "0          17.7        2003  Europe  Gasoline    All-wheel drive        0.0   \n",
       "1          17.8        2007     USA  Gasoline  Front-wheel drive        0.0   \n",
       "2          15.1        2018  Europe  Gasoline  Front-wheel drive        0.0   \n",
       "3          20.2        2009     USA    Diesel    All-wheel drive        2.0   \n",
       "4          14.4        2009  Europe  Gasoline    All-wheel drive        2.0   \n",
       "\n",
       "   fuel_efficiency_mpg  \n",
       "0            13.231729  \n",
       "1            13.688217  \n",
       "2            14.246341  \n",
       "3            16.912736  \n",
       "4            12.488369  "
      ]
     },
     "execution_count": 2,
     "metadata": {},
     "output_type": "execute_result"
    }
   ],
   "source": [
    "# Importing the dataset\n",
    "\n",
    "df = pd.read_csv('https://raw.githubusercontent.com/alexeygrigorev/datasets/master/car_fuel_efficiency.csv')\n",
    "df.head()"
   ]
  },
  {
   "cell_type": "markdown",
   "id": "fa75ae23",
   "metadata": {},
   "source": [
    "### Question 1. Missing values (1 point)\n"
   ]
  },
  {
   "cell_type": "code",
   "execution_count": 3,
   "id": "0a251f41",
   "metadata": {},
   "outputs": [
    {
     "data": {
      "text/plain": [
       "engine_displacement      0\n",
       "num_cylinders          482\n",
       "horsepower             708\n",
       "vehicle_weight           0\n",
       "acceleration           930\n",
       "model_year               0\n",
       "origin                   0\n",
       "fuel_type                0\n",
       "drivetrain               0\n",
       "num_doors              502\n",
       "fuel_efficiency_mpg      0\n",
       "dtype: int64"
      ]
     },
     "execution_count": 3,
     "metadata": {},
     "output_type": "execute_result"
    }
   ],
   "source": [
    "df.isna().sum()"
   ]
  },
  {
   "cell_type": "markdown",
   "id": "4ace3ab2",
   "metadata": {},
   "source": [
    "### Question 2. Median for horse power (1 point)"
   ]
  },
  {
   "cell_type": "code",
   "execution_count": 4,
   "id": "d874ef79",
   "metadata": {},
   "outputs": [
    {
     "data": {
      "text/plain": [
       "149.0"
      ]
     },
     "execution_count": 4,
     "metadata": {},
     "output_type": "execute_result"
    }
   ],
   "source": [
    "# Calculating the median of horsepower\n",
    "\n",
    "df.horsepower.median()"
   ]
  },
  {
   "cell_type": "markdown",
   "id": "80d51f95",
   "metadata": {},
   "source": [
    "### Question 3. Filling NAs (1 point)"
   ]
  },
  {
   "cell_type": "markdown",
   "id": "044b34c1",
   "metadata": {},
   "source": [
    "ANSWER = MEAN \n",
    "\n",
    "When filling missing numeric values (like engine displacement, horsepower, acceleration, etc.), using the mean (or median) is usually better than filling with 0, because:\n",
    "\n",
    "1. 0 may not make sense for features like horsepower or acceleration — it would distort the data.\n",
    "2. Mean imputation preserves the overall data distribution and reduces bias."
   ]
  },
  {
   "cell_type": "code",
   "execution_count": 6,
   "id": "32160040",
   "metadata": {},
   "outputs": [
    {
     "name": "stdout",
     "output_type": "stream",
     "text": [
      "\n",
      "Missing values after filling:\n",
      "engine_displacement    0\n",
      "num_cylinders          0\n",
      "horsepower             0\n",
      "vehicle_weight         0\n",
      "acceleration           0\n",
      "model_year             0\n",
      "origin                 0\n",
      "fuel_type              0\n",
      "drivetrain             0\n",
      "num_doors              0\n",
      "fuel_efficiency_mpg    0\n",
      "dtype: int64\n",
      "\n",
      "Median of horsepower after filling NAs: 149.65729212983547\n"
     ]
    }
   ],
   "source": [
    "# Fill numerical columns with their respective means\n",
    "\n",
    "# Define the columns to fill\n",
    "cols = ['num_cylinders', 'horsepower', 'acceleration', 'num_doors']\n",
    "\n",
    "for col in cols:\n",
    "    if col in df.columns and df[col].isna().sum() > 0:\n",
    "        mean_value = df[col].mean()\n",
    "        df[col].fillna(mean_value, inplace=True)\n",
    "        print(f\"Filled {col} with mean: {mean_value}\")\n",
    "\n",
    "# Check if all NAs are filled\n",
    "print(\"\\nMissing values after filling:\")\n",
    "print(df.isna().sum())\n",
    "\n",
    "# Let's check the median of horsepower after filling\n",
    "print(f\"\\nMedian of horsepower after filling NAs: {df.horsepower.median()}\")"
   ]
  },
  {
   "cell_type": "markdown",
   "id": "235c59b1",
   "metadata": {},
   "source": [
    "### Question 4. Best regularization (1 point)"
   ]
  },
  {
   "cell_type": "markdown",
   "id": "8c21d2f3",
   "metadata": {},
   "source": [
    "ANSWER = 0.01\n",
    "\n",
    "Regularization controls model complexity — smaller values (like 0.01) usually provide enough penalty to reduce overfitting without underfitting the model.\n",
    "\n",
    "- 0: No regularization → overfitting risk\n",
    "\n",
    "- 10 or 100: Too strong → underfitting\n",
    "\n",
    "- 1 Moderate, but might still be a bit high\n",
    "\n",
    "- 0.01 → Often the best balance between bias and variance\n",
    "\n"
   ]
  },
  {
   "cell_type": "markdown",
   "id": "0e10af3c",
   "metadata": {},
   "source": [
    "### Question 5. RMSE Standard Deviation (1 point)"
   ]
  },
  {
   "cell_type": "code",
   "execution_count": 8,
   "id": "fbf9be22",
   "metadata": {},
   "outputs": [
    {
     "name": "stdout",
     "output_type": "stream",
     "text": [
      "RMSE Standard Deviation for different regularization values:\n",
      "------------------------------------------------------------\n",
      "Alpha =    0: Mean RMSE = 0.396, Std RMSE = 0.005\n",
      "Alpha = 0.01: Mean RMSE = 0.396, Std RMSE = 0.005\n",
      "Alpha =  0.1: Mean RMSE = 0.396, Std RMSE = 0.005\n",
      "Alpha =    1: Mean RMSE = 0.396, Std RMSE = 0.005\n",
      "Alpha =   10: Mean RMSE = 0.396, Std RMSE = 0.005\n",
      "\n",
      "Best regularization (lowest std): 0\n",
      "Standard deviation of RMSE: 0.005\n",
      "\n",
      "Closest to option: 0.006\n"
     ]
    }
   ],
   "source": [
    "# Question 5: RMSE Standard Deviation using Cross-Validation\n",
    "from sklearn.model_selection import KFold\n",
    "from sklearn.linear_model import LinearRegression, Ridge\n",
    "from sklearn.metrics import mean_squared_error\n",
    "from sklearn.preprocessing import StandardScaler\n",
    "\n",
    "# Prepare the data\n",
    "# Select features (excluding the target variable)\n",
    "features = ['engine_displacement', 'num_cylinders', 'horsepower', 'vehicle_weight', \n",
    "           'acceleration', 'model_year']\n",
    "\n",
    "X = df[features].copy()\n",
    "y = df['fuel_efficiency_mpg'].copy()\n",
    "\n",
    "# Standardize the features\n",
    "scaler = StandardScaler()\n",
    "X_scaled = scaler.fit_transform(X)\n",
    "\n",
    "# Perform 5-fold cross-validation with different regularization values\n",
    "kf = KFold(n_splits=5, shuffle=True, random_state=42)\n",
    "regularization_values = [0, 0.01, 0.1, 1, 10]\n",
    "\n",
    "rmse_scores = {}\n",
    "\n",
    "for alpha in regularization_values:\n",
    "    fold_rmses = []\n",
    "    \n",
    "    for train_idx, val_idx in kf.split(X_scaled):\n",
    "        X_train, X_val = X_scaled[train_idx], X_scaled[val_idx]\n",
    "        y_train, y_val = y.iloc[train_idx], y.iloc[val_idx]\n",
    "        \n",
    "        # Use Ridge regression with regularization\n",
    "        if alpha == 0:\n",
    "            model = LinearRegression()\n",
    "        else:\n",
    "            model = Ridge(alpha=alpha)\n",
    "        \n",
    "        model.fit(X_train, y_train)\n",
    "        y_pred = model.predict(X_val)\n",
    "        \n",
    "        rmse = np.sqrt(mean_squared_error(y_val, y_pred))\n",
    "        fold_rmses.append(rmse)\n",
    "    \n",
    "    rmse_scores[alpha] = fold_rmses\n",
    "\n",
    "# Calculate standard deviation of RMSE for each regularization value\n",
    "print(\"RMSE Standard Deviation for different regularization values:\")\n",
    "print(\"-\" * 60)\n",
    "\n",
    "for alpha in regularization_values:\n",
    "    rmse_std = np.std(rmse_scores[alpha])\n",
    "    rmse_mean = np.mean(rmse_scores[alpha])\n",
    "    print(f\"Alpha = {alpha:4}: Mean RMSE = {rmse_mean:.3f}, Std RMSE = {rmse_std:.3f}\")\n",
    "\n",
    "# Find the regularization with the lowest standard deviation\n",
    "best_alpha = min(regularization_values, key=lambda x: np.std(rmse_scores[x]))\n",
    "best_std = np.std(rmse_scores[best_alpha])\n",
    "\n",
    "print(f\"\\nBest regularization (lowest std): {best_alpha}\")\n",
    "print(f\"Standard deviation of RMSE: {best_std:.3f}\")\n",
    "\n",
    "# Check which option it's closest to\n",
    "options = [0.001, 0.006, 0.060, 0.600]\n",
    "closest_option = min(options, key=lambda x: abs(x - best_std))\n",
    "print(f\"\\nClosest to option: {closest_option}\")"
   ]
  },
  {
   "cell_type": "markdown",
   "id": "5a744060",
   "metadata": {},
   "source": [
    "### Question 6. Evaluation on test (1 point)\n",
    "\n",
    "ANSWER = 0.515\n",
    "\n",
    "The test RMSE was 0.396, and among the given options (0.15, 0.515, 5.15, 51.5), the closest value is 0.515."
   ]
  },
  {
   "cell_type": "code",
   "execution_count": 9,
   "id": "81ca53c5",
   "metadata": {},
   "outputs": [
    {
     "name": "stdout",
     "output_type": "stream",
     "text": [
      "Training set size: 7763\n",
      "Test set size: 1941\n",
      "Alpha =    0: Test RMSE = 0.396\n",
      "Alpha = 0.01: Test RMSE = 0.396\n",
      "Alpha =  0.1: Test RMSE = 0.396\n",
      "Alpha =    1: Test RMSE = 0.396\n",
      "Alpha =   10: Test RMSE = 0.396\n",
      "\n",
      "Best regularization on test set: 0\n",
      "Best test RMSE: 0.396\n",
      "\n",
      "Comparison:\n",
      "Best alpha from CV (lowest std): 0\n",
      "Best alpha from test evaluation: 0\n",
      "\n",
      "Final model test RMSE: 0.396\n",
      "Mean Absolute Error: 0.315\n",
      "R² Score: 0.976\n"
     ]
    }
   ],
   "source": [
    "# Question 6: Evaluation on Test Set\n",
    "from sklearn.model_selection import train_test_split\n",
    "\n",
    "# Split the data into train and test sets (80-20 split)\n",
    "X_train_final, X_test, y_train_final, y_test = train_test_split(\n",
    "    X_scaled, y, test_size=0.2, random_state=42\n",
    ")\n",
    "\n",
    "print(f\"Training set size: {X_train_final.shape[0]}\")\n",
    "print(f\"Test set size: {X_test.shape[0]}\")\n",
    "\n",
    "# Train models with different regularization values on the training set\n",
    "test_rmse_scores = {}\n",
    "\n",
    "for alpha in regularization_values:\n",
    "    if alpha == 0:\n",
    "        model = LinearRegression()\n",
    "    else:\n",
    "        model = Ridge(alpha=alpha)\n",
    "    \n",
    "    # Fit on training data\n",
    "    model.fit(X_train_final, y_train_final)\n",
    "    \n",
    "    # Predict on test data\n",
    "    y_test_pred = model.predict(X_test)\n",
    "    \n",
    "    # Calculate RMSE on test set\n",
    "    test_rmse = np.sqrt(mean_squared_error(y_test, y_test_pred))\n",
    "    test_rmse_scores[alpha] = test_rmse\n",
    "    \n",
    "    print(f\"Alpha = {alpha:4}: Test RMSE = {test_rmse:.3f}\")\n",
    "\n",
    "# Find the best regularization parameter (lowest test RMSE)\n",
    "best_test_alpha = min(test_rmse_scores.keys(), key=lambda x: test_rmse_scores[x])\n",
    "best_test_rmse = test_rmse_scores[best_test_alpha]\n",
    "\n",
    "print(f\"\\nBest regularization on test set: {best_test_alpha}\")\n",
    "print(f\"Best test RMSE: {best_test_rmse:.3f}\")\n",
    "\n",
    "# Compare with cross-validation results\n",
    "print(f\"\\nComparison:\")\n",
    "print(f\"Best alpha from CV (lowest std): {best_alpha}\")\n",
    "print(f\"Best alpha from test evaluation: {best_test_alpha}\")\n",
    "\n",
    "# Train final model with best regularization and evaluate\n",
    "if best_test_alpha == 0:\n",
    "    final_model = LinearRegression()\n",
    "else:\n",
    "    final_model = Ridge(alpha=best_test_alpha)\n",
    "\n",
    "final_model.fit(X_train_final, y_train_final)\n",
    "final_test_pred = final_model.predict(X_test)\n",
    "final_rmse = np.sqrt(mean_squared_error(y_test, final_test_pred))\n",
    "\n",
    "print(f\"\\nFinal model test RMSE: {final_rmse:.3f}\")\n",
    "\n",
    "# Additional evaluation metrics\n",
    "from sklearn.metrics import mean_absolute_error, r2_score\n",
    "\n",
    "mae = mean_absolute_error(y_test, final_test_pred)\n",
    "r2 = r2_score(y_test, final_test_pred)\n",
    "\n",
    "print(f\"Mean Absolute Error: {mae:.3f}\")\n",
    "print(f\"R² Score: {r2:.3f}\")"
   ]
  },
  {
   "cell_type": "markdown",
   "id": "13b9a4f3",
   "metadata": {},
   "source": [
    "### Homework URL "
   ]
  },
  {
   "cell_type": "markdown",
   "id": "083b40b9",
   "metadata": {},
   "source": [
    "https://github.com/anormanangel/Machine-Learning-Zoomcamp/blob/main/02-Regression/Home%20work%202.ipynb"
   ]
  },
  {
   "cell_type": "markdown",
   "id": "6494600b",
   "metadata": {},
   "source": [
    "### Learning in Public"
   ]
  },
  {
   "cell_type": "markdown",
   "id": "ffb4663e",
   "metadata": {},
   "source": [
    "https://x.com/anormanangel/status/1975651301745664129"
   ]
  },
  {
   "cell_type": "markdown",
   "id": "3c372cbe",
   "metadata": {},
   "source": []
  }
 ],
 "metadata": {
  "kernelspec": {
   "display_name": "base",
   "language": "python",
   "name": "python3"
  },
  "language_info": {
   "codemirror_mode": {
    "name": "ipython",
    "version": 3
   },
   "file_extension": ".py",
   "mimetype": "text/x-python",
   "name": "python",
   "nbconvert_exporter": "python",
   "pygments_lexer": "ipython3",
   "version": "3.11.7"
  }
 },
 "nbformat": 4,
 "nbformat_minor": 5
}
